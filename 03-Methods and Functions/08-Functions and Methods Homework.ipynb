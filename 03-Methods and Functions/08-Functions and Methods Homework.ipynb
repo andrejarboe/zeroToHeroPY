{
 "cells": [
  {
   "cell_type": "markdown",
   "metadata": {},
   "source": [
    "# Functions and Methods Homework \n",
    "\n",
    "Complete the following questions:\n",
    "____\n",
    "**Write a function that computes the volume of a sphere given its radius.**\n",
    "<p>The volume of a sphere is given as $$\\frac{4}{3} πr^3$$</p>"
   ]
  },
  {
   "cell_type": "code",
   "execution_count": 39,
   "metadata": {
    "collapsed": true
   },
   "outputs": [],
   "source": [
    "def vol(rad):\n",
<<<<<<< HEAD
    "    return 4/3 * 3.14 * rad**3"
=======
    "    return (4/3) * 3.14 * rad ** 3\n",
    "    pass"
>>>>>>> c2107f0c01e335aa40ba15168fbb73e4aa465e7a
   ]
  },
  {
   "cell_type": "code",
<<<<<<< HEAD
   "execution_count": 4,
=======
   "execution_count": 40,
>>>>>>> c2107f0c01e335aa40ba15168fbb73e4aa465e7a
   "metadata": {},
   "outputs": [
    {
     "data": {
      "text/plain": [
       "113.03999999999999"
      ]
     },
<<<<<<< HEAD
     "execution_count": 4,
=======
     "execution_count": 40,
>>>>>>> c2107f0c01e335aa40ba15168fbb73e4aa465e7a
     "metadata": {},
     "output_type": "execute_result"
    }
   ],
   "source": [
    "# Check\n",
    "vol(3)"
   ]
  },
  {
   "cell_type": "markdown",
   "metadata": {},
   "source": [
    "___\n",
    "**Write a function that checks whether a number is in a given range (inclusive of high and low)**"
   ]
  },
  {
   "cell_type": "code",
<<<<<<< HEAD
   "execution_count": 6,
=======
   "execution_count": 2,
>>>>>>> c2107f0c01e335aa40ba15168fbb73e4aa465e7a
   "metadata": {
    "collapsed": true
   },
   "outputs": [],
   "source": [
    "def ran_check(num,low,high):\n",
<<<<<<< HEAD
    "    x = num\n",
    "    if x >= low and x <= high:\n",
    "        print(f'{num} is in the range between {low} and {high}')\n",
    "    else:\n",
    "        print(f'{num} is not in the range between {low} and {high}')"
=======
    "    if low <= num and high >= num:\n",
    "        print(f\"{num} is in the range between {low} and {high} \")\n",
    "    else:\n",
    "        print(f\"{num} is not int the range between {low} and {high} \")\n"
>>>>>>> c2107f0c01e335aa40ba15168fbb73e4aa465e7a
   ]
  },
  {
   "cell_type": "code",
<<<<<<< HEAD
   "execution_count": 8,
=======
   "execution_count": 3,
>>>>>>> c2107f0c01e335aa40ba15168fbb73e4aa465e7a
   "metadata": {},
   "outputs": [
    {
     "name": "stdout",
     "output_type": "stream",
     "text": [
<<<<<<< HEAD
      "0 is not int the range between 2 and 7\n"
=======
      "5 is in the range between 2 and 7 \n",
      "7 is in the range between 2 and 7 \n"
>>>>>>> c2107f0c01e335aa40ba15168fbb73e4aa465e7a
     ]
    }
   ],
   "source": [
    "# Check\n",
<<<<<<< HEAD
    "ran_check(0,2,7)"
=======
    "ran_check(5,2,7)\n",
    "ran_check(7,2,7)"
>>>>>>> c2107f0c01e335aa40ba15168fbb73e4aa465e7a
   ]
  },
  {
   "cell_type": "markdown",
   "metadata": {},
   "source": [
    "If you only wanted to return a boolean:"
   ]
  },
  {
   "cell_type": "code",
<<<<<<< HEAD
   "execution_count": 9,
=======
   "execution_count": 43,
>>>>>>> c2107f0c01e335aa40ba15168fbb73e4aa465e7a
   "metadata": {
    "collapsed": true
   },
   "outputs": [],
   "source": [
    "def ran_bool(num,low,high):\n",
<<<<<<< HEAD
    "    x = num\n",
    "    if x >= low and x <= high:\n",
    "        return True\n",
    "    else:\n",
    "        return False"
=======
    "    return low <= num and high >= num"
>>>>>>> c2107f0c01e335aa40ba15168fbb73e4aa465e7a
   ]
  },
  {
   "cell_type": "code",
<<<<<<< HEAD
   "execution_count": 13,
=======
   "execution_count": 44,
>>>>>>> c2107f0c01e335aa40ba15168fbb73e4aa465e7a
   "metadata": {},
   "outputs": [
    {
     "data": {
      "text/plain": [
       "False"
      ]
     },
<<<<<<< HEAD
     "execution_count": 13,
=======
     "execution_count": 44,
>>>>>>> c2107f0c01e335aa40ba15168fbb73e4aa465e7a
     "metadata": {},
     "output_type": "execute_result"
    }
   ],
   "source": [
<<<<<<< HEAD
    "ran_bool(11,1,10)"
=======
    "ran_bool(3,1,10)\n",
    "ran_bool(33,1,10)\n",
    "ran_bool(3,1,10)"
>>>>>>> c2107f0c01e335aa40ba15168fbb73e4aa465e7a
   ]
  },
  {
   "cell_type": "markdown",
   "metadata": {},
   "source": [
    "____\n",
    "**Write a Python function that accepts a string and calculates the number of upper case letters and lower case letters.**\n",
    "\n",
    "    Sample String : 'Hello Mr. Rogers, how are you this fine Tuesday?'\n",
    "    Expected Output : \n",
    "    No. of Upper case characters : 4\n",
    "    No. of Lower case Characters : 33\n",
    "\n",
    "HINT: Two string methods that might prove useful: **.isupper()** and **.islower()**\n",
    "\n",
    "If you feel ambitious, explore the Collections module to solve this problem!"
   ]
  },
  {
   "cell_type": "code",
<<<<<<< HEAD
   "execution_count": 17,
=======
   "execution_count": 50,
>>>>>>> c2107f0c01e335aa40ba15168fbb73e4aa465e7a
   "metadata": {
    "collapsed": true
   },
   "outputs": [
    {
     "ename": "",
     "evalue": "",
     "output_type": "error",
     "traceback": [
      "\u001b[1;31mThe Kernel crashed while executing code in the current cell or a previous cell. \n",
      "\u001b[1;31mPlease review the code in the cell(s) to identify a possible cause of the failure. \n",
      "\u001b[1;31mClick <a href='https://aka.ms/vscodeJupyterKernelCrash'>here</a> for more info. \n",
      "\u001b[1;31mView Jupyter <a href='command:jupyter.viewOutput'>log</a> for further details."
     ]
    }
   ],
   "source": [
    "def up_low(s):\n",
    "    upper = 0\n",
    "    lower = 0\n",
    "\n",
<<<<<<< HEAD
    "    for i in s:\n",
    "        if s[i].isupper():\n",
    "            upper += 1\n",
    "        elif s[i].lower():\n",
    "            lower += 1\n",
    "    \n",
    "    print(f'No. of Upper case characters :  {upper}')\n",
    "    print(f'No. of Lower case characters :  {lower}')"
=======
    "    # print(\" \".join(s.split(\" \"))\n",
    "    for char in s:\n",
    "        if char.isupper():\n",
    "            upper += 1\n",
    "        elif char.islower():\n",
    "            lower += 1\n",
    "\n",
    "    print(f\"No. of Upper case characters : {upper}\")\n",
    "    print(f\"No. of Lower case Characters : {lower}\")"
>>>>>>> c2107f0c01e335aa40ba15168fbb73e4aa465e7a
   ]
  },
  {
   "cell_type": "code",
<<<<<<< HEAD
   "execution_count": 16,
   "metadata": {},
   "outputs": [
    {
     "ename": "TypeError",
     "evalue": "string indices must be integers, not 'str'",
     "output_type": "error",
     "traceback": [
      "\u001b[1;31m---------------------------------------------------------------------------\u001b[0m",
      "\u001b[1;31mTypeError\u001b[0m                                 Traceback (most recent call last)",
      "Cell \u001b[1;32mIn[16], line 2\u001b[0m\n\u001b[0;32m      1\u001b[0m s \u001b[38;5;241m=\u001b[39m \u001b[38;5;124m'\u001b[39m\u001b[38;5;124mHello Mr. Rogers, how are you this fine Tuesday?\u001b[39m\u001b[38;5;124m'\u001b[39m\n\u001b[1;32m----> 2\u001b[0m \u001b[43mup_low\u001b[49m\u001b[43m(\u001b[49m\u001b[43ms\u001b[49m\u001b[43m)\u001b[49m\n",
      "Cell \u001b[1;32mIn[14], line 6\u001b[0m, in \u001b[0;36mup_low\u001b[1;34m(s)\u001b[0m\n\u001b[0;32m      3\u001b[0m lower \u001b[38;5;241m=\u001b[39m \u001b[38;5;241m0\u001b[39m\n\u001b[0;32m      5\u001b[0m \u001b[38;5;28;01mfor\u001b[39;00m i \u001b[38;5;129;01min\u001b[39;00m s:\n\u001b[1;32m----> 6\u001b[0m     \u001b[38;5;28;01mif\u001b[39;00m \u001b[43ms\u001b[49m\u001b[43m[\u001b[49m\u001b[43mi\u001b[49m\u001b[43m]\u001b[49m\u001b[38;5;241m.\u001b[39misupper():\n\u001b[0;32m      7\u001b[0m         upper \u001b[38;5;241m+\u001b[39m\u001b[38;5;241m=\u001b[39m \u001b[38;5;241m1\u001b[39m\n\u001b[0;32m      8\u001b[0m     \u001b[38;5;28;01melif\u001b[39;00m s[i]\u001b[38;5;241m.\u001b[39mlower():\n",
      "\u001b[1;31mTypeError\u001b[0m: string indices must be integers, not 'str'"
=======
   "execution_count": 51,
   "metadata": {},
   "outputs": [
    {
     "name": "stdout",
     "output_type": "stream",
     "text": [
      "No. of Upper case characters : 4\n",
      "No. of Lower case Characters : 33\n"
>>>>>>> c2107f0c01e335aa40ba15168fbb73e4aa465e7a
     ]
    }
   ],
   "source": [
    "s = 'Hello Mr. Rogers, how are you this fine Tuesday?'\n",
    "up_low(s)"
   ]
  },
  {
   "cell_type": "markdown",
   "metadata": {},
   "source": [
    "____\n",
    "**Write a Python function that takes a list and returns a new list with unique elements of the first list.**\n",
    "\n",
    "    Sample List : [1,1,1,1,2,2,3,3,3,3,4,5]\n",
    "    Unique List : [1, 2, 3, 4, 5]"
   ]
  },
  {
   "cell_type": "code",
   "execution_count": 56,
   "metadata": {
    "collapsed": true
   },
   "outputs": [],
   "source": [
    "def unique_list(lst):\n",
    "    print(\n",
    "        list(\n",
    "            set(lst)\n",
    "        )\n",
    "    )\n",
    "\n",
    "    pass"
   ]
  },
  {
   "cell_type": "code",
   "execution_count": 57,
   "metadata": {},
   "outputs": [
    {
     "name": "stdout",
     "output_type": "stream",
     "text": [
      "[1, 2, 3, 4, 5]\n"
     ]
    }
   ],
   "source": [
    "unique_list([1,1,1,1,2,2,3,3,3,3,4,5])"
   ]
  },
  {
   "cell_type": "markdown",
   "metadata": {},
   "source": [
    "____\n",
    "**Write a Python function to multiply all the numbers in a list.**\n",
    "\n",
    "    Sample List : [1, 2, 3, -4]\n",
    "    Expected Output : -24"
   ]
  },
  {
   "cell_type": "code",
   "execution_count": 60,
   "metadata": {
    "collapsed": true
   },
   "outputs": [],
   "source": [
    "def multiply(numbers): \n",
    "    total = 1\n",
    "    for num in numbers:\n",
    "        total *= num\n",
    "    print(total) "
   ]
  },
  {
   "cell_type": "code",
   "execution_count": 61,
   "metadata": {},
   "outputs": [
    {
     "name": "stdout",
     "output_type": "stream",
     "text": [
      "-24\n"
     ]
    }
   ],
   "source": [
    "multiply([1,2,3,-4])"
   ]
  },
  {
   "cell_type": "markdown",
   "metadata": {},
   "source": [
    "____\n",
    "**Write a Python function that checks whether a word or phrase is palindrome or not.**\n",
    "\n",
    "Note: A palindrome is word, phrase, or sequence that reads the same backward as forward, e.g., madam,kayak,racecar, or a phrase \"nurses run\". Hint: You may want to check out the .replace() method in a string to help out with dealing with spaces. Also google search how to reverse a string in Python, there are some clever ways to do it with slicing notation."
   ]
  },
  {
   "cell_type": "code",
   "execution_count": 4,
   "metadata": {
    "collapsed": true
   },
   "outputs": [],
   "source": [
    "def palindrome(s):\n",
    "    s = s.replace(' ','')\n",
    "    if s == s[::-1]:\n",
    "        print(\"Palindrome\")\n",
    "    else:\n",
    "        print(\"Not a palindrome\")"
   ]
  },
  {
   "cell_type": "code",
   "execution_count": 6,
   "metadata": {},
   "outputs": [
    {
     "name": "stdout",
     "output_type": "stream",
     "text": [
      "Not a palindrome\n",
      "Palindrome\n",
      "Palindrome\n"
     ]
    }
   ],
   "source": [
    "palindrome('hellehasdfasdf')\n",
    "palindrome('helleh helleh')\n",
    "palindrome('nurses run')"
   ]
  },
  {
   "cell_type": "markdown",
   "metadata": {},
   "source": [
    "____\n",
    "#### Hard:\n",
    "\n",
    "**Write a Python function to check whether a string is pangram or not. (Assume the string passed in does not have any punctuation)**\n",
    "\n",
    "    Note : Pangrams are words or sentences containing every letter of the alphabet at least once.\n",
    "    For example : \"The quick brown fox jumps over the lazy dog\"\n",
    "\n",
    "Hint: You may want to use .replace() method to get rid of spaces.\n",
    "\n",
    "Hint: Look at the [string module](https://stackoverflow.com/questions/16060899/alphabet-range-in-python)\n",
    "\n",
    "Hint: In case you want to use [set comparisons](https://medium.com/better-programming/a-visual-guide-to-set-comparisons-in-python-6ab7edb9ec41)"
   ]
  },
  {
   "cell_type": "code",
   "execution_count": 74,
   "metadata": {
    "collapsed": true
   },
   "outputs": [],
   "source": [
    "import string\n",
    "\n",
    "def ispangram(str1, alphabet=string.ascii_lowercase):\n",
    "    print(f\"alphabet: {alphabet}\")\n",
    "    str1 = str1.lower()\n",
    "    for letter in str1:\n",
    "        if letter in alphabet:\n",
    "            alphabet = alphabet.replace(letter, '')\n",
    "    if len(alphabet) == 0:\n",
    "        print(\"Is a pangram\")\n",
    "    else:\n",
    "        print(\"Not a pangram\")\n",
    "    print(f\"alphabet: {alphabet} \")"
   ]
  },
  {
   "cell_type": "code",
   "execution_count": 75,
   "metadata": {},
   "outputs": [
    {
     "name": "stdout",
     "output_type": "stream",
     "text": [
      "alphabet: abcdefghijklmnopqrstuvwxyz\n",
      "Is a pangram\n",
      "alphabet:  \n",
      "alphabet: abcdefghijklmnopqrstuvwxyz\n",
      "Not a pangram\n",
      "alphabet: abdfgjlmnoprsvwxyz \n"
     ]
    }
   ],
   "source": [
    "ispangram(\"The quick brown fox jumps over the lazy dog\")\n",
    "ispangram(\"The quick\")"
   ]
  },
  {
   "cell_type": "code",
   "execution_count": 17,
   "metadata": {},
   "outputs": [
    {
     "data": {
      "text/plain": [
       "'abcdefghijklmnopqrstuvwxyz'"
      ]
     },
     "execution_count": 17,
     "metadata": {},
     "output_type": "execute_result"
    }
   ],
   "source": [
    "string.ascii_lowercase"
   ]
  },
  {
   "cell_type": "markdown",
   "metadata": {
    "collapsed": true
   },
   "source": [
    "#### Great Job!"
   ]
  }
 ],
 "metadata": {
  "kernelspec": {
   "display_name": "Python 3",
   "language": "python",
   "name": "python3"
  },
  "language_info": {
   "codemirror_mode": {
    "name": "ipython",
    "version": 3
   },
   "file_extension": ".py",
   "mimetype": "text/x-python",
   "name": "python",
   "nbconvert_exporter": "python",
   "pygments_lexer": "ipython3",
<<<<<<< HEAD
   "version": "3.12.0"
=======
   "version": "3.12.4"
>>>>>>> c2107f0c01e335aa40ba15168fbb73e4aa465e7a
  }
 },
 "nbformat": 4,
 "nbformat_minor": 1
}
